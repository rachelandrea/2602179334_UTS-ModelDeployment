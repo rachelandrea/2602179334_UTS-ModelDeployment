{
  "cells": [
    {
      "cell_type": "code",
      "execution_count": 1,
      "metadata": {
        "id": "5rJofwYM00iQ"
      },
      "outputs": [],
      "source": [
        "import pandas as pd\n",
        "import numpy as np\n",
        "import matplotlib.pyplot as plt"
      ]
    },
    {
      "cell_type": "code",
      "execution_count": 2,
      "metadata": {
        "id": "Fcj38U2q1CcL"
      },
      "outputs": [],
      "source": [
        "df = pd.read_csv('data_D.csv')"
      ]
    },
    {
      "cell_type": "markdown",
      "metadata": {
        "id": "Ya8N2qELPinn"
      },
      "source": [
        "# Exploratory Data Analysis"
      ]
    },
    {
      "cell_type": "code",
      "execution_count": 3,
      "metadata": {},
      "outputs": [
        {
          "data": {
            "text/plain": [
              "(41259, 15)"
            ]
          },
          "execution_count": 3,
          "metadata": {},
          "output_type": "execute_result"
        }
      ],
      "source": [
        "df.shape"
      ]
    },
    {
      "cell_type": "code",
      "execution_count": 4,
      "metadata": {},
      "outputs": [
        {
          "name": "stdout",
          "output_type": "stream",
          "text": [
            "<class 'pandas.core.frame.DataFrame'>\n",
            "RangeIndex: 41259 entries, 0 to 41258\n",
            "Data columns (total 15 columns):\n",
            " #   Column           Non-Null Count  Dtype  \n",
            "---  ------           --------------  -----  \n",
            " 0   Unnamed: 0       41259 non-null  int64  \n",
            " 1   id               41259 non-null  int64  \n",
            " 2   CustomerId       41259 non-null  int64  \n",
            " 3   Surname          41259 non-null  object \n",
            " 4   CreditScore      41251 non-null  float64\n",
            " 5   Geography        41259 non-null  object \n",
            " 6   Gender           41259 non-null  object \n",
            " 7   Age              41259 non-null  float64\n",
            " 8   Tenure           41259 non-null  int64  \n",
            " 9   Balance          41259 non-null  float64\n",
            " 10  NumOfProducts    41259 non-null  int64  \n",
            " 11  HasCrCard        41259 non-null  int64  \n",
            " 12  IsActiveMember   41259 non-null  int64  \n",
            " 13  EstimatedSalary  41259 non-null  float64\n",
            " 14  churn            41259 non-null  int64  \n",
            "dtypes: float64(4), int64(8), object(3)\n",
            "memory usage: 4.7+ MB\n"
          ]
        }
      ],
      "source": [
        "df.info()"
      ]
    },
    {
      "cell_type": "code",
      "execution_count": 5,
      "metadata": {
        "colab": {
          "base_uri": "https://localhost:8080/",
          "height": 273
        },
        "id": "Bv1nHhvQ1JRX",
        "outputId": "59709e60-4dca-4614-9f17-7a8f0c040fb6"
      },
      "outputs": [
        {
          "data": {
            "text/html": [
              "<div>\n",
              "<style scoped>\n",
              "    .dataframe tbody tr th:only-of-type {\n",
              "        vertical-align: middle;\n",
              "    }\n",
              "\n",
              "    .dataframe tbody tr th {\n",
              "        vertical-align: top;\n",
              "    }\n",
              "\n",
              "    .dataframe thead th {\n",
              "        text-align: right;\n",
              "    }\n",
              "</style>\n",
              "<table border=\"1\" class=\"dataframe\">\n",
              "  <thead>\n",
              "    <tr style=\"text-align: right;\">\n",
              "      <th></th>\n",
              "      <th>Unnamed: 0</th>\n",
              "      <th>id</th>\n",
              "      <th>CustomerId</th>\n",
              "      <th>Surname</th>\n",
              "      <th>CreditScore</th>\n",
              "      <th>Geography</th>\n",
              "      <th>Gender</th>\n",
              "      <th>Age</th>\n",
              "      <th>Tenure</th>\n",
              "      <th>Balance</th>\n",
              "      <th>NumOfProducts</th>\n",
              "      <th>HasCrCard</th>\n",
              "      <th>IsActiveMember</th>\n",
              "      <th>EstimatedSalary</th>\n",
              "      <th>churn</th>\n",
              "    </tr>\n",
              "  </thead>\n",
              "  <tbody>\n",
              "    <tr>\n",
              "      <th>0</th>\n",
              "      <td>0</td>\n",
              "      <td>106473</td>\n",
              "      <td>15639576</td>\n",
              "      <td>Sarratt</td>\n",
              "      <td>652.0</td>\n",
              "      <td>France</td>\n",
              "      <td>Female</td>\n",
              "      <td>65.0</td>\n",
              "      <td>3</td>\n",
              "      <td>0.00</td>\n",
              "      <td>2</td>\n",
              "      <td>1</td>\n",
              "      <td>1</td>\n",
              "      <td>136592.24</td>\n",
              "      <td>0</td>\n",
              "    </tr>\n",
              "    <tr>\n",
              "      <th>1</th>\n",
              "      <td>1</td>\n",
              "      <td>62345</td>\n",
              "      <td>15769582</td>\n",
              "      <td>Hanson</td>\n",
              "      <td>464.0</td>\n",
              "      <td>France</td>\n",
              "      <td>Male</td>\n",
              "      <td>35.0</td>\n",
              "      <td>4</td>\n",
              "      <td>0.00</td>\n",
              "      <td>1</td>\n",
              "      <td>0</td>\n",
              "      <td>0</td>\n",
              "      <td>99505.75</td>\n",
              "      <td>1</td>\n",
              "    </tr>\n",
              "    <tr>\n",
              "      <th>2</th>\n",
              "      <td>2</td>\n",
              "      <td>126615</td>\n",
              "      <td>15675888</td>\n",
              "      <td>Austin</td>\n",
              "      <td>620.0</td>\n",
              "      <td>Germany</td>\n",
              "      <td>Female</td>\n",
              "      <td>39.0</td>\n",
              "      <td>6</td>\n",
              "      <td>129401.87</td>\n",
              "      <td>2</td>\n",
              "      <td>1</td>\n",
              "      <td>1</td>\n",
              "      <td>102681.32</td>\n",
              "      <td>1</td>\n",
              "    </tr>\n",
              "    <tr>\n",
              "      <th>3</th>\n",
              "      <td>3</td>\n",
              "      <td>35909</td>\n",
              "      <td>15786617</td>\n",
              "      <td>Tuan</td>\n",
              "      <td>598.0</td>\n",
              "      <td>France</td>\n",
              "      <td>Female</td>\n",
              "      <td>30.0</td>\n",
              "      <td>7</td>\n",
              "      <td>0.00</td>\n",
              "      <td>2</td>\n",
              "      <td>1</td>\n",
              "      <td>0</td>\n",
              "      <td>141210.18</td>\n",
              "      <td>0</td>\n",
              "    </tr>\n",
              "    <tr>\n",
              "      <th>4</th>\n",
              "      <td>4</td>\n",
              "      <td>45175</td>\n",
              "      <td>15757310</td>\n",
              "      <td>Li Fonti</td>\n",
              "      <td>682.0</td>\n",
              "      <td>Germany</td>\n",
              "      <td>Female</td>\n",
              "      <td>46.0</td>\n",
              "      <td>4</td>\n",
              "      <td>107720.57</td>\n",
              "      <td>1</td>\n",
              "      <td>0</td>\n",
              "      <td>0</td>\n",
              "      <td>93832.33</td>\n",
              "      <td>1</td>\n",
              "    </tr>\n",
              "  </tbody>\n",
              "</table>\n",
              "</div>"
            ],
            "text/plain": [
              "   Unnamed: 0      id  CustomerId   Surname  CreditScore Geography  Gender  \\\n",
              "0           0  106473    15639576   Sarratt        652.0    France  Female   \n",
              "1           1   62345    15769582    Hanson        464.0    France    Male   \n",
              "2           2  126615    15675888    Austin        620.0   Germany  Female   \n",
              "3           3   35909    15786617      Tuan        598.0    France  Female   \n",
              "4           4   45175    15757310  Li Fonti        682.0   Germany  Female   \n",
              "\n",
              "    Age  Tenure    Balance  NumOfProducts  HasCrCard  IsActiveMember  \\\n",
              "0  65.0       3       0.00              2          1               1   \n",
              "1  35.0       4       0.00              1          0               0   \n",
              "2  39.0       6  129401.87              2          1               1   \n",
              "3  30.0       7       0.00              2          1               0   \n",
              "4  46.0       4  107720.57              1          0               0   \n",
              "\n",
              "   EstimatedSalary  churn  \n",
              "0        136592.24      0  \n",
              "1         99505.75      1  \n",
              "2        102681.32      1  \n",
              "3        141210.18      0  \n",
              "4         93832.33      1  "
            ]
          },
          "execution_count": 5,
          "metadata": {},
          "output_type": "execute_result"
        }
      ],
      "source": [
        "df.head()"
      ]
    },
    {
      "cell_type": "code",
      "execution_count": 6,
      "metadata": {
        "colab": {
          "base_uri": "https://localhost:8080/"
        },
        "id": "Sz7XjUBL1PHn",
        "outputId": "05aaf9e4-538f-4e46-88c9-f020e92a2a65"
      },
      "outputs": [
        {
          "data": {
            "text/plain": [
              "Index(['Unnamed: 0', 'id', 'CustomerId', 'Surname', 'CreditScore', 'Geography',\n",
              "       'Gender', 'Age', 'Tenure', 'Balance', 'NumOfProducts', 'HasCrCard',\n",
              "       'IsActiveMember', 'EstimatedSalary', 'churn'],\n",
              "      dtype='object')"
            ]
          },
          "execution_count": 6,
          "metadata": {},
          "output_type": "execute_result"
        }
      ],
      "source": [
        "df.columns"
      ]
    },
    {
      "cell_type": "code",
      "execution_count": 7,
      "metadata": {},
      "outputs": [
        {
          "name": "stdout",
          "output_type": "stream",
          "text": [
            "Unnamed: 0: 41259\n",
            "[    0     1     2 ... 41256 41257 41258]\n",
            "\n",
            "id: 41259\n",
            "[106473  62345 126615 ...   3091  20130 161328]\n",
            "\n",
            "CustomerId: 13272\n",
            "[15639576 15769582 15675888 ... 15792588 15695096 15583460]\n",
            "\n",
            "Surname: 2274\n",
            "['Sarratt' 'Hanson' 'Austin' ... 'Hobbs' 'Rivero' 'Laurie']\n",
            "\n",
            "CreditScore: 442\n",
            "[652. 464. 620. 598. 682. 746. 636. 685. 809. 439. 656. 741. 675. 532.\n",
            " 616. 669. 756. 705. 662. 635. 753. 576. 487. 697. 718. 556. 717. 711.\n",
            " 667. 528. 588. 592. 686. 625. 807. 555. 714. 544. 724. 769. 695. 791.\n",
            " 727. 679. 692. 658. 492. 739. 678. 684. 681. 600. 633. 671. 611. 529.\n",
            " 590. 543. 758. 710. 774. 709. 567. 648. 453. 637. 726. 704. 646. 535.\n",
            " 702. 743. 638. 531. 623. 698. 593. 586. 816. 655. 619. 835. 642. 582.\n",
            " 564. 518. 732. 762. 703. 569. 516. 578. 645. 594. 525. 494. 609. 683.\n",
            " 661. 605. 607. 634. 781. 844. 650. 663. 731. 660. 583. 641. 602. 513.\n",
            " 621. 596. 554. 589. 587. 472. 580. 628. 766. 665. 696. 560. 850. 730.\n",
            " 606. 626. 627. 715. 565. 674. 749. 552. 736. 687. 745. 570. 507. 624.\n",
            " 630. 706. 849. 805. 691. 735. 779. 653. 479. 632. 579. 595. 538. 608.\n",
            " 601. 577. 668. 738. 613. 822. 752. 485. 553. 575. 797. 545. 803. 688.\n",
            " 708. 832. 540. 574. 725. 733. 754. 559. 694. 693. 503. 486. 826. 757.\n",
            " 699. 534. 707. 789. 721. 591. 521. 571. 581. 604. 659. 631. 542. 549.\n",
            " 537. 755. 676. 651. 775. 845. 640. 701. 833. 787. 827. 603. 647. 546.\n",
            " 750. 629. 673. 734. 622. 712. 614. 597. 742. 649. 509. 690. 784. 713.\n",
            " 584. 723. 573. 777. 639. 550. 760. 644. 670. 773. 488. 615. 489. 719.\n",
            " 510. 527. 798. 539. 482. 365. 680. 437. 465. 828. 729. 547. 506. 720.\n",
            " 792. 814. 484. 617. 585. 744. 452. 562. 677. 829. 748. 520. 610. 771.\n",
            " 524. 847. 498. 666. 838. 747. 420. 458. 657. 821. 350. 664. 496. 728.\n",
            " 526. 763. 471. 825. 563. 558. 557. 523. 477. 618. 568. 599. 689. 561.\n",
            " 416. 786.  nan 468. 815. 501. 811. 813. 700. 572. 794. 495. 478. 654.\n",
            " 566. 643. 796. 447. 778. 428. 837. 438. 767. 512. 533. 508. 737. 795.\n",
            " 793. 785. 831. 722. 530. 780. 548. 768. 481. 740. 449. 790. 842. 765.\n",
            " 817. 493. 514. 446. 751. 788. 427. 483. 824. 764. 812. 801. 444. 541.\n",
            " 823. 716. 499. 455. 515. 672. 776. 536. 806. 474. 418. 473. 463. 504.\n",
            " 834. 519. 430. 461. 772. 612. 841. 459. 432. 782. 761. 425. 830. 799.\n",
            " 497. 511. 469. 476. 517. 848. 491. 551. 819. 445. 846. 434. 470. 759.\n",
            " 810. 413. 502. 836. 454. 802. 467. 818. 770. 500. 450. 505. 808. 431.\n",
            " 451. 456. 820. 363. 843. 466. 442. 424. 804. 783. 414. 480. 440. 411.\n",
            " 475. 382. 367. 490. 429. 422. 462. 840. 457. 443. 800. 405. 435. 441.\n",
            " 421. 410. 408. 426. 522. 460. 401. 415. 376.]\n",
            "\n",
            "Geography: 3\n",
            "['France' 'Germany' 'Spain']\n",
            "\n",
            "Gender: 2\n",
            "['Female' 'Male']\n",
            "\n",
            "Age: 66\n",
            "[65. 35. 39. 30. 46. 24. 45. 54. 38. 25. 49. 56. 31. 37. 33. 42. 47. 41.\n",
            " 28. 29. 50. 34. 48. 43. 21. 44. 36. 60. 32. 51. 23. 40. 57. 58. 26. 59.\n",
            " 22. 27. 70. 76. 74. 53. 55. 52. 69. 64. 63. 62. 67. 61. 71. 66. 20. 19.\n",
            " 79. 18. 72. 81. 80. 92. 75. 73. 68. 82. 77. 83.]\n",
            "\n",
            "Tenure: 11\n",
            "[ 3  4  6  7  1  9  2  5  8  0 10]\n",
            "\n",
            "Balance: 11389\n",
            "[     0.   129401.87 107720.57 ... 111973.97 166518.96 121801.49]\n",
            "\n",
            "NumOfProducts: 4\n",
            "[2 1 3 4]\n",
            "\n",
            "HasCrCard: 2\n",
            "[1 0]\n",
            "\n",
            "IsActiveMember: 2\n",
            "[1 0]\n",
            "\n",
            "EstimatedSalary: 20995\n",
            "[136592.24  99505.75 102681.32 ...   9904.75 131665.33  93882.93]\n",
            "\n",
            "churn: 2\n",
            "[0 1]\n",
            "\n"
          ]
        }
      ],
      "source": [
        "# Unique value in each column\n",
        "for c in df:\n",
        "    print(f'{c}: {df[c].nunique()}')\n",
        "    print(df[c].unique())\n",
        "    print()"
      ]
    },
    {
      "cell_type": "code",
      "execution_count": 8,
      "metadata": {},
      "outputs": [
        {
          "data": {
            "text/plain": [
              "Unnamed: 0         0\n",
              "id                 0\n",
              "CustomerId         0\n",
              "Surname            0\n",
              "CreditScore        8\n",
              "Geography          0\n",
              "Gender             0\n",
              "Age                0\n",
              "Tenure             0\n",
              "Balance            0\n",
              "NumOfProducts      0\n",
              "HasCrCard          0\n",
              "IsActiveMember     0\n",
              "EstimatedSalary    0\n",
              "churn              0\n",
              "dtype: int64"
            ]
          },
          "execution_count": 8,
          "metadata": {},
          "output_type": "execute_result"
        }
      ],
      "source": [
        "df.isna().sum()"
      ]
    },
    {
      "cell_type": "code",
      "execution_count": 9,
      "metadata": {},
      "outputs": [
        {
          "data": {
            "text/plain": [
              "0"
            ]
          },
          "execution_count": 9,
          "metadata": {},
          "output_type": "execute_result"
        }
      ],
      "source": [
        "df.duplicated().sum()"
      ]
    },
    {
      "cell_type": "markdown",
      "metadata": {
        "id": "HXJlO4y5PqBZ"
      },
      "source": [
        "# Feature Engineering"
      ]
    },
    {
      "cell_type": "code",
      "execution_count": 10,
      "metadata": {},
      "outputs": [],
      "source": [
        "# Fill the Null Value in CreditScore with its mean\n",
        "df['CreditScore'].fillna(df['CreditScore'].mean(), inplace = True)"
      ]
    },
    {
      "cell_type": "code",
      "execution_count": 11,
      "metadata": {},
      "outputs": [
        {
          "data": {
            "text/plain": [
              "Unnamed: 0         0\n",
              "id                 0\n",
              "CustomerId         0\n",
              "Surname            0\n",
              "CreditScore        0\n",
              "Geography          0\n",
              "Gender             0\n",
              "Age                0\n",
              "Tenure             0\n",
              "Balance            0\n",
              "NumOfProducts      0\n",
              "HasCrCard          0\n",
              "IsActiveMember     0\n",
              "EstimatedSalary    0\n",
              "churn              0\n",
              "dtype: int64"
            ]
          },
          "execution_count": 11,
          "metadata": {},
          "output_type": "execute_result"
        }
      ],
      "source": [
        "df.isna().sum()"
      ]
    },
    {
      "cell_type": "code",
      "execution_count": 12,
      "metadata": {},
      "outputs": [],
      "source": [
        "# Drop the 'Unnamed: 0' column because it's not relevant\n",
        "df.drop('Unnamed: 0', axis=1, inplace=True)"
      ]
    },
    {
      "cell_type": "code",
      "execution_count": 13,
      "metadata": {},
      "outputs": [],
      "source": [
        "# Drop the 'Surname' column\n",
        "df.drop('Surname', axis=1, inplace=True)"
      ]
    },
    {
      "cell_type": "code",
      "execution_count": 14,
      "metadata": {},
      "outputs": [],
      "source": [
        "# Encoding for object feature with LabelEncoder\n",
        "from sklearn.preprocessing import LabelEncoder\n",
        "\n",
        "labelEnc = LabelEncoder()\n",
        "df['Geography'] = labelEnc.fit_transform(df['Geography'])\n",
        "df['Gender'] = labelEnc.fit_transform(df['Gender'])"
      ]
    },
    {
      "cell_type": "code",
      "execution_count": 15,
      "metadata": {},
      "outputs": [
        {
          "name": "stdout",
          "output_type": "stream",
          "text": [
            "<class 'pandas.core.frame.DataFrame'>\n",
            "RangeIndex: 41259 entries, 0 to 41258\n",
            "Data columns (total 13 columns):\n",
            " #   Column           Non-Null Count  Dtype  \n",
            "---  ------           --------------  -----  \n",
            " 0   id               41259 non-null  int64  \n",
            " 1   CustomerId       41259 non-null  int64  \n",
            " 2   CreditScore      41259 non-null  float64\n",
            " 3   Geography        41259 non-null  int32  \n",
            " 4   Gender           41259 non-null  int32  \n",
            " 5   Age              41259 non-null  float64\n",
            " 6   Tenure           41259 non-null  int64  \n",
            " 7   Balance          41259 non-null  float64\n",
            " 8   NumOfProducts    41259 non-null  int64  \n",
            " 9   HasCrCard        41259 non-null  int64  \n",
            " 10  IsActiveMember   41259 non-null  int64  \n",
            " 11  EstimatedSalary  41259 non-null  float64\n",
            " 12  churn            41259 non-null  int64  \n",
            "dtypes: float64(4), int32(2), int64(7)\n",
            "memory usage: 3.8 MB\n"
          ]
        }
      ],
      "source": [
        "df.info()"
      ]
    },
    {
      "cell_type": "code",
      "execution_count": 16,
      "metadata": {},
      "outputs": [
        {
          "data": {
            "image/png": "[encoded data removed]",
            "text/plain": [
              "<Figure size 640x480 with 1 Axes>"
            ]
          },
          "metadata": {},
          "output_type": "display_data"
        },
        {
          "name": "stdout",
          "output_type": "stream",
          "text": [
            "id\n"
          ]
        },
        {
          "data": {
            "image/png": "[encoded data removed]",
            "text/plain": [
              "<Figure size 640x480 with 1 Axes>"
            ]
          },
          "metadata": {},
          "output_type": "display_data"
        },
        {
          "name": "stdout",
          "output_type": "stream",
          "text": [
            "CustomerId\n"
          ]
        },
        {
          "data": {
            "image/png": "[encoded data removed]",
            "text/plain": [
              "<Figure size 640x480 with 1 Axes>"
            ]
          },
          "metadata": {},
          "output_type": "display_data"
        },
        {
          "name": "stdout",
          "output_type": "stream",
          "text": [
            "CreditScore\n"
          ]
        },
        {
          "data": {
            "image/png": "[encoded data removed]",
            "text/plain": [
              "<Figure size 640x480 with 1 Axes>"
            ]
          },
          "metadata": {},
          "output_type": "display_data"
        },
        {
          "name": "stdout",
          "output_type": "stream",
          "text": [
            "Geography\n"
          ]
        },
        {
          "data": {
            "image/png": "[encoded data removed]",
            "text/plain": [
              "<Figure size 640x480 with 1 Axes>"
            ]
          },
          "metadata": {},
          "output_type": "display_data"
        },
        {
          "name": "stdout",
          "output_type": "stream",
          "text": [
            "Gender\n"
          ]
        },
        {
          "data": {
            "image/png": "[encoded data removed]",
            "text/plain": [
              "<Figure size 640x480 with 1 Axes>"
            ]
          },
          "metadata": {},
          "output_type": "display_data"
        },
        {
          "name": "stdout",
          "output_type": "stream",
          "text": [
            "Age\n"
          ]
        },
        {
          "data": {
            "image/png": "[encoded data removed]",
            "text/plain": [
              "<Figure size 640x480 with 1 Axes>"
            ]
          },
          "metadata": {},
          "output_type": "display_data"
        },
        {
          "name": "stdout",
          "output_type": "stream",
          "text": [
            "Tenure\n"
          ]
        },
        {
          "data": {
            "image/png": "[encoded data removed]",
            "text/plain": [
              "<Figure size 640x480 with 1 Axes>"
            ]
          },
          "metadata": {},
          "output_type": "display_data"
        },
        {
          "name": "stdout",
          "output_type": "stream",
          "text": [
            "Balance\n"
          ]
        },
        {
          "data": {
            "image/png": "[encoded data removed]",
            "text/plain": [
              "<Figure size 640x480 with 1 Axes>"
            ]
          },
          "metadata": {},
          "output_type": "display_data"
        },
        {
          "name": "stdout",
          "output_type": "stream",
          "text": [
            "NumOfProducts\n"
          ]
        },
        {
          "data": {
            "image/png": "[encoded data removed]",
            "text/plain": [
              "<Figure size 640x480 with 1 Axes>"
            ]
          },
          "metadata": {},
          "output_type": "display_data"
        },
        {
          "name": "stdout",
          "output_type": "stream",
          "text": [
            "HasCrCard\n"
          ]
        },
        {
          "data": {
            "image/png": "[encoded data removed]",
            "text/plain": [
              "<Figure size 640x480 with 1 Axes>"
            ]
          },
          "metadata": {},
          "output_type": "display_data"
        },
        {
          "name": "stdout",
          "output_type": "stream",
          "text": [
            "IsActiveMember\n"
          ]
        },
        {
          "data": {
            "image/png": "[encoded data removed]",
            "text/plain": [
              "<Figure size 640x480 with 1 Axes>"
            ]
          },
          "metadata": {},
          "output_type": "display_data"
        },
        {
          "name": "stdout",
          "output_type": "stream",
          "text": [
            "EstimatedSalary\n"
          ]
        },
        {
          "data": {
            "image/png": "[encoded data removed]",
            "text/plain": [
              "<Figure size 640x480 with 1 Axes>"
            ]
          },
          "metadata": {},
          "output_type": "display_data"
        },
        {
          "name": "stdout",
          "output_type": "stream",
          "text": [
            "churn\n"
          ]
        }
      ],
      "source": [
        "# Check Outlier\n",
        "for col in df:\n",
        "    plt.boxplot(df[col])\n",
        "    plt.show()\n",
        "    print(col)"
      ]
    },
    {
      "cell_type": "code",
      "execution_count": 17,
      "metadata": {},
      "outputs": [
        {
          "name": "stdout",
          "output_type": "stream",
          "text": [
            "[365. 350. 416. 350. 413. 363. 414. 411. 382. 411. 367. 411. 411. 350.\n",
            " 363. 411. 405. 410. 408. 365. 350. 350. 416. 350. 411. 411. 350. 350.\n",
            " 401. 415. 376. 350. 413. 413. 367. 415. 367.]\n",
            "37\n"
          ]
        }
      ],
      "source": [
        "# Remove Outlier in feature CreditScore and Age\n",
        "#store outlier value\n",
        "mean = df['CreditScore'].mean()\n",
        "std = df['CreditScore'].std()\n",
        "Tmax = mean + (3 * std)\n",
        "Tmin = mean - (3 * std)\n",
        "Outlier = df[(df['CreditScore'] < Tmin) | (df['CreditScore'] > Tmax)]['CreditScore'].values\n",
        "print(Outlier)\n",
        "print(len(Outlier))"
      ]
    },
    {
      "cell_type": "code",
      "execution_count": 18,
      "metadata": {},
      "outputs": [],
      "source": [
        "df = df[~df['CreditScore'].isin(Outlier)]"
      ]
    },
    {
      "cell_type": "code",
      "execution_count": 19,
      "metadata": {},
      "outputs": [
        {
          "name": "stdout",
          "output_type": "stream",
          "text": [
            "[65. 70. 76. 74. 69. 67. 71. 66. 67. 71. 71. 70. 69. 67. 70. 71. 71. 71.\n",
            " 71. 79. 67. 66. 71. 66. 67. 71. 70. 70. 66. 69. 69. 66. 72. 67. 69. 70.\n",
            " 74. 72. 69. 66. 70. 74. 66. 69. 66. 69. 66. 66. 67. 67. 66. 66. 67. 71.\n",
            " 81. 80. 92. 67. 71. 67. 70. 66. 75. 70. 67. 67. 74. 66. 69. 66. 71. 67.\n",
            " 66. 67. 69. 71. 67. 71. 71. 74. 74. 72. 71. 72. 65. 73. 65. 66. 71. 68.\n",
            " 68. 71. 66. 73. 66. 66. 69. 67. 72. 66. 67. 66. 67. 71. 66. 66. 67. 70.\n",
            " 66. 66. 82. 71. 68. 68. 80. 71. 75. 70. 80. 65. 70. 65. 69. 76. 92. 66.\n",
            " 67. 67. 66. 79. 67. 72. 67. 67. 79. 71. 67. 66. 73. 72. 65. 66. 81. 72.\n",
            " 79. 71. 67. 67. 66. 68. 70. 71. 70. 66. 69. 67. 76. 71. 66. 74. 71. 74.\n",
            " 69. 72. 67. 65. 67. 65. 69. 66. 66. 67. 72. 66. 67. 81. 66. 66. 67. 75.\n",
            " 67. 72. 74. 68. 73. 72. 66. 71. 67. 71. 69. 66. 65. 69. 71. 77. 71. 72.\n",
            " 73. 67. 67. 67. 70. 66. 81. 66. 71. 72. 67. 71. 67. 66. 67. 77. 65. 71.\n",
            " 66. 71. 77. 69. 67. 73. 73. 67. 72. 66. 68. 75. 65. 67. 72. 66. 66. 75.\n",
            " 76. 66. 72. 66. 66. 71. 69. 71. 66. 66. 67. 66. 71. 92. 71. 66. 67. 68.\n",
            " 66. 71. 66. 67. 67. 66. 72. 71. 72. 66. 71. 67. 76. 72. 71. 72. 69. 71.\n",
            " 81. 67. 71. 67. 67. 68. 66. 71. 67. 70. 71. 66. 69. 72. 65. 70. 72. 77.\n",
            " 72. 72. 68. 71. 71. 75. 69. 68. 66. 67. 70. 66. 69. 65. 72. 71. 75. 65.\n",
            " 66. 66. 71. 70. 71. 66. 73. 68. 66. 71. 69. 65. 66. 71. 67. 67. 66. 66.\n",
            " 67. 71. 68. 66. 67. 67. 76. 72. 66. 65. 67. 71. 71. 65. 72. 65. 66. 67.\n",
            " 77. 71. 67. 66. 75. 67. 71. 71. 66. 70. 66. 67. 67. 71. 72. 72. 73. 66.\n",
            " 67. 66. 71. 65. 66. 66. 71. 73. 65. 73. 72. 67. 67. 71. 66. 75. 67. 69.\n",
            " 74. 72. 72. 71. 67. 74. 67. 71. 65. 76. 67. 69. 65. 66. 67. 66. 71. 71.\n",
            " 66. 65. 65. 67. 77. 65. 66. 67. 66. 67. 73. 67. 67. 66. 68. 69. 67. 67.\n",
            " 67. 71. 67. 68. 72. 72. 66. 74. 67. 71. 67. 67. 68. 69. 74. 67. 68. 70.\n",
            " 71. 92. 72. 72. 67. 70. 71. 65. 71. 69. 66. 72. 69. 67. 66. 72. 67. 70.\n",
            " 66. 65. 66. 75. 68. 71. 66. 83. 67. 71. 72. 67. 75. 68. 77. 67. 74. 71.\n",
            " 69. 67. 66. 65. 67. 66. 65. 67. 71. 67.]\n",
            "478\n"
          ]
        }
      ],
      "source": [
        "mean = df['Age'].mean()\n",
        "std = df['Age'].std()\n",
        "Tmax = mean + (3 * std)\n",
        "Tmin = mean - (3 * std)\n",
        "Outlier = df[(df['Age'] < Tmin) | (df['Age'] > Tmax)]['Age'].values\n",
        "print(Outlier)\n",
        "print(len(Outlier))"
      ]
    },
    {
      "cell_type": "code",
      "execution_count": 20,
      "metadata": {},
      "outputs": [],
      "source": [
        "df = df[~df['Age'].isin(Outlier)]"
      ]
    },
    {
      "cell_type": "code",
      "execution_count": 21,
      "metadata": {
        "colab": {
          "base_uri": "https://localhost:8080/"
        },
        "id": "NiZ9vyis2Xz1",
        "outputId": "870e5f13-f92e-4f61-d8d1-73bcb8972344"
      },
      "outputs": [
        {
          "name": "stdout",
          "output_type": "stream",
          "text": [
            "<class 'pandas.core.frame.DataFrame'>\n",
            "Index: 40744 entries, 1 to 41258\n",
            "Data columns (total 13 columns):\n",
            " #   Column           Non-Null Count  Dtype  \n",
            "---  ------           --------------  -----  \n",
            " 0   id               40744 non-null  int64  \n",
            " 1   CustomerId       40744 non-null  int64  \n",
            " 2   CreditScore      40744 non-null  float64\n",
            " 3   Geography        40744 non-null  int32  \n",
            " 4   Gender           40744 non-null  int32  \n",
            " 5   Age              40744 non-null  float64\n",
            " 6   Tenure           40744 non-null  int64  \n",
            " 7   Balance          40744 non-null  float64\n",
            " 8   NumOfProducts    40744 non-null  int64  \n",
            " 9   HasCrCard        40744 non-null  int64  \n",
            " 10  IsActiveMember   40744 non-null  int64  \n",
            " 11  EstimatedSalary  40744 non-null  float64\n",
            " 12  churn            40744 non-null  int64  \n",
            "dtypes: float64(4), int32(2), int64(7)\n",
            "memory usage: 4.0 MB\n"
          ]
        }
      ],
      "source": [
        "df.info()"
      ]
    },
    {
      "cell_type": "code",
      "execution_count": 22,
      "metadata": {
        "id": "JyMujhHj23Ez"
      },
      "outputs": [],
      "source": [
        "#Convert all feature to int\n",
        "columns_toConvert = ['CreditScore','Age','Balance','EstimatedSalary']\n",
        "df[columns_toConvert] = df[columns_toConvert].astype(int)"
      ]
    },
    {
      "cell_type": "code",
      "execution_count": 23,
      "metadata": {
        "colab": {
          "base_uri": "https://localhost:8080/"
        },
        "id": "Sr97Jayj3qXQ",
        "outputId": "a164e965-aab6-4d89-b796-f98c168577ff"
      },
      "outputs": [
        {
          "name": "stdout",
          "output_type": "stream",
          "text": [
            "<class 'pandas.core.frame.DataFrame'>\n",
            "Index: 40744 entries, 1 to 41258\n",
            "Data columns (total 13 columns):\n",
            " #   Column           Non-Null Count  Dtype\n",
            "---  ------           --------------  -----\n",
            " 0   id               40744 non-null  int64\n",
            " 1   CustomerId       40744 non-null  int64\n",
            " 2   CreditScore      40744 non-null  int32\n",
            " 3   Geography        40744 non-null  int32\n",
            " 4   Gender           40744 non-null  int32\n",
            " 5   Age              40744 non-null  int32\n",
            " 6   Tenure           40744 non-null  int64\n",
            " 7   Balance          40744 non-null  int32\n",
            " 8   NumOfProducts    40744 non-null  int64\n",
            " 9   HasCrCard        40744 non-null  int64\n",
            " 10  IsActiveMember   40744 non-null  int64\n",
            " 11  EstimatedSalary  40744 non-null  int32\n",
            " 12  churn            40744 non-null  int64\n",
            "dtypes: int32(6), int64(7)\n",
            "memory usage: 3.4 MB\n"
          ]
        }
      ],
      "source": [
        "df.info()"
      ]
    },
    {
      "cell_type": "markdown",
      "metadata": {
        "id": "qfb6UAwUP7le"
      },
      "source": [
        "# Training Machine Learning Model"
      ]
    },
    {
      "cell_type": "markdown",
      "metadata": {
        "id": "FyKY5UB4pVmL"
      },
      "source": [
        "## Splitting data into training and testing"
      ]
    },
    {
      "cell_type": "code",
      "execution_count": 24,
      "metadata": {
        "id": "OtesAIrZ32Rb"
      },
      "outputs": [],
      "source": [
        "input_df = df.drop('churn',axis=1)\n",
        "output_df = df['churn']"
      ]
    },
    {
      "cell_type": "code",
      "execution_count": 25,
      "metadata": {
        "id": "aGEbYhk03-YO"
      },
      "outputs": [],
      "source": [
        "from sklearn.model_selection import train_test_split\n",
        "x_train, x_test, y_train, y_test = train_test_split(input_df, output_df, test_size = 0.2, random_state = 42)"
      ]
    },
    {
      "cell_type": "markdown",
      "metadata": {},
      "source": [
        "## Classification using Random Forest"
      ]
    },
    {
      "cell_type": "code",
      "execution_count": 26,
      "metadata": {
        "id": "HIDzL0JB4Aha"
      },
      "outputs": [],
      "source": [
        "from sklearn.tree import DecisionTreeClassifier\n",
        "import warnings\n",
        "warnings.filterwarnings('ignore')\n",
        "\n",
        "DT_class = DecisionTreeClassifier()\n",
        "DT_class.fit(x_train, y_train)\n",
        "y_predict=DT_class.predict(x_test)"
      ]
    },
    {
      "cell_type": "code",
      "execution_count": 27,
      "metadata": {
        "colab": {
          "base_uri": "https://localhost:8080/"
        },
        "id": "9GnmcEIo4IdG",
        "outputId": "2777cd41-6ce6-40d3-cdd9-f02841924755"
      },
      "outputs": [
        {
          "name": "stdout",
          "output_type": "stream",
          "text": [
            "\n",
            "Classification Report\n",
            "\n",
            "              precision    recall  f1-score   support\n",
            "\n",
            "           0       0.88      0.87      0.87      6412\n",
            "           1       0.53      0.55      0.54      1737\n",
            "\n",
            "    accuracy                           0.80      8149\n",
            "   macro avg       0.70      0.71      0.70      8149\n",
            "weighted avg       0.80      0.80      0.80      8149\n",
            "\n"
          ]
        }
      ],
      "source": [
        "from sklearn.metrics import classification_report\n",
        "print('\\nClassification Report\\n')\n",
        "print(classification_report(y_test, y_predict, target_names=['0','1']))"
      ]
    },
    {
      "cell_type": "markdown",
      "metadata": {
        "id": "VN5eb3eX4tVW"
      },
      "source": [
        "### Tuning parameters using GridSearchCv"
      ]
    },
    {
      "cell_type": "code",
      "execution_count": 28,
      "metadata": {
        "id": "kwiQ3xzd4sPl"
      },
      "outputs": [],
      "source": [
        "from sklearn.model_selection import GridSearchCV\n",
        "\n",
        "parameters = {\n",
        "    'criterion':['gini', 'entropy', 'log_loss'],\n",
        "    'max_depth':[2,4,6,8],\n",
        "}"
      ]
    },
    {
      "cell_type": "code",
      "execution_count": 29,
      "metadata": {
        "id": "czOFIXKc404q"
      },
      "outputs": [],
      "source": [
        "DT_class2 = DecisionTreeClassifier()\n",
        "DT_class2= GridSearchCV(DT_class2 ,\n",
        "                            param_grid = parameters,   # hyperparameters\n",
        "                            scoring='accuracy',        # metric for scoring\n",
        "                            cv=5)"
      ]
    },
    {
      "cell_type": "code",
      "execution_count": 30,
      "metadata": {
        "colab": {
          "base_uri": "https://localhost:8080/"
        },
        "id": "CWLy9Ktf42u3",
        "outputId": "96d8b836-ad4b-4978-abd5-a60ebd5d279b"
      },
      "outputs": [
        {
          "name": "stdout",
          "output_type": "stream",
          "text": [
            "Tuned Hyperparameters : {'criterion': 'entropy', 'max_depth': 6}\n",
            "Accuracy : 0.8560515416474919\n"
          ]
        }
      ],
      "source": [
        "DT_class2.fit(x_train,y_train)\n",
        "print(\"Tuned Hyperparameters :\", DT_class2.best_params_)\n",
        "print(\"Accuracy :\",DT_class2.best_score_)"
      ]
    },
    {
      "cell_type": "code",
      "execution_count": 31,
      "metadata": {
        "id": "qxYoFAD149Am"
      },
      "outputs": [],
      "source": [
        "#Train the data using based parameter\n",
        "DT_class_best = DecisionTreeClassifier(criterion= 'entropy',max_depth=6)"
      ]
    },
    {
      "cell_type": "code",
      "execution_count": 32,
      "metadata": {
        "colab": {
          "base_uri": "https://localhost:8080/",
          "height": 75
        },
        "id": "icJkF81S5EYS",
        "outputId": "554a5219-dae6-4dc4-e471-50f17f81636a"
      },
      "outputs": [
        {
          "data": {
            "text/html": [
              "<style>#sk-container-id-1 {color: black;}#sk-container-id-1 pre{padding: 0;}#sk-container-id-1 div.sk-toggleable {background-color: white;}#sk-container-id-1 label.sk-toggleable__label {cursor: pointer;display: block;width: 100%;margin-bottom: 0;padding: 0.3em;box-sizing: border-box;text-align: center;}#sk-container-id-1 label.sk-toggleable__label-arrow:before {content: \"▸\";float: left;margin-right: 0.25em;color: #696969;}#sk-container-id-1 label.sk-toggleable__label-arrow:hover:before {color: black;}#sk-container-id-1 div.sk-estimator:hover label.sk-toggleable__label-arrow:before {color: black;}#sk-container-id-1 div.sk-toggleable__content {max-height: 0;max-width: 0;overflow: hidden;text-align: left;background-color: #f0f8ff;}#sk-container-id-1 div.sk-toggleable__content pre {margin: 0.2em;color: black;border-radius: 0.25em;background-color: #f0f8ff;}#sk-container-id-1 input.sk-toggleable__control:checked~div.sk-toggleable__content {max-height: 200px;max-width: 100%;overflow: auto;}#sk-container-id-1 input.sk-toggleable__control:checked~label.sk-toggleable__label-arrow:before {content: \"▾\";}#sk-container-id-1 div.sk-estimator input.sk-toggleable__control:checked~label.sk-toggleable__label {background-color: #d4ebff;}#sk-container-id-1 div.sk-label input.sk-toggleable__control:checked~label.sk-toggleable__label {background-color: #d4ebff;}#sk-container-id-1 input.sk-hidden--visually {border: 0;clip: rect(1px 1px 1px 1px);clip: rect(1px, 1px, 1px, 1px);height: 1px;margin: -1px;overflow: hidden;padding: 0;position: absolute;width: 1px;}#sk-container-id-1 div.sk-estimator {font-family: monospace;background-color: #f0f8ff;border: 1px dotted black;border-radius: 0.25em;box-sizing: border-box;margin-bottom: 0.5em;}#sk-container-id-1 div.sk-estimator:hover {background-color: #d4ebff;}#sk-container-id-1 div.sk-parallel-item::after {content: \"\";width: 100%;border-bottom: 1px solid gray;flex-grow: 1;}#sk-container-id-1 div.sk-label:hover label.sk-toggleable__label {background-color: #d4ebff;}#sk-container-id-1 div.sk-serial::before {content: \"\";position: absolute;border-left: 1px solid gray;box-sizing: border-box;top: 0;bottom: 0;left: 50%;z-index: 0;}#sk-container-id-1 div.sk-serial {display: flex;flex-direction: column;align-items: center;background-color: white;padding-right: 0.2em;padding-left: 0.2em;position: relative;}#sk-container-id-1 div.sk-item {position: relative;z-index: 1;}#sk-container-id-1 div.sk-parallel {display: flex;align-items: stretch;justify-content: center;background-color: white;position: relative;}#sk-container-id-1 div.sk-item::before, #sk-container-id-1 div.sk-parallel-item::before {content: \"\";position: absolute;border-left: 1px solid gray;box-sizing: border-box;top: 0;bottom: 0;left: 50%;z-index: -1;}#sk-container-id-1 div.sk-parallel-item {display: flex;flex-direction: column;z-index: 1;position: relative;background-color: white;}#sk-container-id-1 div.sk-parallel-item:first-child::after {align-self: flex-end;width: 50%;}#sk-container-id-1 div.sk-parallel-item:last-child::after {align-self: flex-start;width: 50%;}#sk-container-id-1 div.sk-parallel-item:only-child::after {width: 0;}#sk-container-id-1 div.sk-dashed-wrapped {border: 1px dashed gray;margin: 0 0.4em 0.5em 0.4em;box-sizing: border-box;padding-bottom: 0.4em;background-color: white;}#sk-container-id-1 div.sk-label label {font-family: monospace;font-weight: bold;display: inline-block;line-height: 1.2em;}#sk-container-id-1 div.sk-label-container {text-align: center;}#sk-container-id-1 div.sk-container {/* jupyter's `normalize.less` sets `[hidden] { display: none; }` but bootstrap.min.css set `[hidden] { display: none !important; }` so we also need the `!important` here to be able to override the default hidden behavior on the sphinx rendered scikit-learn.org. See: https://github.com/scikit-learn/scikit-learn/issues/21755 */display: inline-block !important;position: relative;}#sk-container-id-1 div.sk-text-repr-fallback {display: none;}</style><div id=\"sk-container-id-1\" class=\"sk-top-container\"><div class=\"sk-text-repr-fallback\"><pre>DecisionTreeClassifier(criterion=&#x27;entropy&#x27;, max_depth=6)</pre><b>In a Jupyter environment, please rerun this cell to show the HTML representation or trust the notebook. <br />On GitHub, the HTML representation is unable to render, please try loading this page with nbviewer.org.</b></div><div class=\"sk-container\" hidden><div class=\"sk-item\"><div class=\"sk-estimator sk-toggleable\"><input class=\"sk-toggleable__control sk-hidden--visually\" id=\"sk-estimator-id-1\" type=\"checkbox\" checked><label for=\"sk-estimator-id-1\" class=\"sk-toggleable__label sk-toggleable__label-arrow\">DecisionTreeClassifier</label><div class=\"sk-toggleable__content\"><pre>DecisionTreeClassifier(criterion=&#x27;entropy&#x27;, max_depth=6)</pre></div></div></div></div></div>"
            ],
            "text/plain": [
              "DecisionTreeClassifier(criterion='entropy', max_depth=6)"
            ]
          },
          "execution_count": 32,
          "metadata": {},
          "output_type": "execute_result"
        }
      ],
      "source": [
        "DT_class_best.fit(x_train,y_train)"
      ]
    },
    {
      "cell_type": "code",
      "execution_count": 33,
      "metadata": {
        "id": "sEMCMTWM5KK6"
      },
      "outputs": [],
      "source": [
        "y_predict_best=DT_class_best.predict(x_test)"
      ]
    },
    {
      "cell_type": "markdown",
      "metadata": {
        "id": "siD_6ns5P2QJ"
      },
      "source": [
        "### Evaluate Model"
      ]
    },
    {
      "cell_type": "code",
      "execution_count": 34,
      "metadata": {
        "colab": {
          "base_uri": "https://localhost:8080/"
        },
        "id": "5AJXM0O25Mdr",
        "outputId": "85ecb9b2-4f29-444f-bda0-b9e4a5b651a7"
      },
      "outputs": [
        {
          "name": "stdout",
          "output_type": "stream",
          "text": [
            "\n",
            "Classification Report\n",
            "\n",
            "              precision    recall  f1-score   support\n",
            "\n",
            "           0       0.88      0.94      0.91      6412\n",
            "           1       0.70      0.51      0.59      1737\n",
            "\n",
            "    accuracy                           0.85      8149\n",
            "   macro avg       0.79      0.73      0.75      8149\n",
            "weighted avg       0.84      0.85      0.84      8149\n",
            "\n"
          ]
        }
      ],
      "source": [
        "print('\\nClassification Report\\n')\n",
        "print(classification_report(y_test, y_predict_best, target_names=['0','1']))"
      ]
    },
    {
      "cell_type": "markdown",
      "metadata": {},
      "source": [
        "## Classification using XGBoost"
      ]
    },
    {
      "cell_type": "code",
      "execution_count": 37,
      "metadata": {},
      "outputs": [
        {
          "name": "stdout",
          "output_type": "stream",
          "text": [
            "Collecting xgboost\n",
            "  Using cached xgboost-2.0.3-py3-none-win_amd64.whl (99.8 MB)\n",
            "Requirement already satisfied: numpy in c:\\users\\rachel\\pythondeeplearning\\environments\\deep_learning\\lib\\site-packages (from xgboost) (1.23.1)\n",
            "Requirement already satisfied: scipy in c:\\users\\rachel\\pythondeeplearning\\environments\\deep_learning\\lib\\site-packages (from xgboost) (1.13.0)\n",
            "Installing collected packages: xgboost\n",
            "Successfully installed xgboost-2.0.3\n"
          ]
        },
        {
          "name": "stderr",
          "output_type": "stream",
          "text": [
            "\n",
            "[notice] A new release of pip available: 22.3.1 -> 24.0\n",
            "[notice] To update, run: python.exe -m pip install --upgrade pip\n"
          ]
        }
      ],
      "source": [
        "!pip install xgboost"
      ]
    },
    {
      "cell_type": "code",
      "execution_count": 42,
      "metadata": {},
      "outputs": [],
      "source": [
        "import xgboost as xgb\n",
        "from xgboost import XGBClassifier\n",
        "\n",
        "XGBoost_class = xgb.XGBClassifier(objective=\"binary:logistic\", random_state=42)\n",
        "XGBoost_class.fit(x_train, y_train)\n",
        "y_predict=XGBoost_class.predict(x_test)"
      ]
    },
    {
      "cell_type": "code",
      "execution_count": 43,
      "metadata": {},
      "outputs": [
        {
          "name": "stdout",
          "output_type": "stream",
          "text": [
            "\n",
            "Classification Report\n",
            "\n",
            "              precision    recall  f1-score   support\n",
            "\n",
            "           0       0.88      0.94      0.91      6412\n",
            "           1       0.71      0.54      0.61      1737\n",
            "\n",
            "    accuracy                           0.85      8149\n",
            "   macro avg       0.80      0.74      0.76      8149\n",
            "weighted avg       0.85      0.85      0.85      8149\n",
            "\n"
          ]
        }
      ],
      "source": [
        "from sklearn.metrics import classification_report\n",
        "print('\\nClassification Report\\n')\n",
        "print(classification_report(y_test, y_predict, target_names=['0','1']))"
      ]
    },
    {
      "cell_type": "markdown",
      "metadata": {},
      "source": [
        "### Tuning parameters using GridSearchCv"
      ]
    },
    {
      "cell_type": "code",
      "execution_count": 44,
      "metadata": {},
      "outputs": [],
      "source": [
        "parameters = {\n",
        "    'max_depth': [3, 6, 10],\n",
        "    'min_child_weight': [1, 5, 10],\n",
        "    'gamma': [0.5, 1, 1.5, 2],\n",
        "    'subsample': [0.6, 0.8, 1.0],\n",
        "    'colsample_bytree': [0.6, 0.8, 1.0],\n",
        "    'learning_rate': [0.01, 0.1, 0.2]\n",
        "}"
      ]
    },
    {
      "cell_type": "code",
      "execution_count": 46,
      "metadata": {},
      "outputs": [],
      "source": [
        "XGBoost_class2 = XGBClassifier()\n",
        "XGBoost_class2 = GridSearchCV(XGBoost_class2, \n",
        "                   parameters, \n",
        "                   scoring='accuracy', \n",
        "                   cv=3)"
      ]
    },
    {
      "cell_type": "code",
      "execution_count": 47,
      "metadata": {},
      "outputs": [
        {
          "name": "stdout",
          "output_type": "stream",
          "text": [
            "Tuned Hyperparameters : {'colsample_bytree': 0.8, 'gamma': 0.5, 'learning_rate': 0.1, 'max_depth': 3, 'min_child_weight': 1, 'subsample': 1.0}\n",
            "Accuracy : 0.8657462801043105\n"
          ]
        }
      ],
      "source": [
        "XGBoost_class2.fit(x_train,y_train)\n",
        "print(\"Tuned Hyperparameters :\", XGBoost_class2.best_params_)\n",
        "print(\"Accuracy :\",XGBoost_class2.best_score_)"
      ]
    },
    {
      "cell_type": "code",
      "execution_count": 50,
      "metadata": {},
      "outputs": [],
      "source": [
        "#Train the data using based parameter\n",
        "XGBoost_class_best = XGBClassifier(colsample_bytree=0.8, gamma=0.5, learning_rate=0.1, max_depth=3, min_child_weight=1, subsample=1.0)"
      ]
    },
    {
      "cell_type": "code",
      "execution_count": 51,
      "metadata": {},
      "outputs": [
        {
          "data": {
            "text/html": [
              "<style>#sk-container-id-2 {color: black;}#sk-container-id-2 pre{padding: 0;}#sk-container-id-2 div.sk-toggleable {background-color: white;}#sk-container-id-2 label.sk-toggleable__label {cursor: pointer;display: block;width: 100%;margin-bottom: 0;padding: 0.3em;box-sizing: border-box;text-align: center;}#sk-container-id-2 label.sk-toggleable__label-arrow:before {content: \"▸\";float: left;margin-right: 0.25em;color: #696969;}#sk-container-id-2 label.sk-toggleable__label-arrow:hover:before {color: black;}#sk-container-id-2 div.sk-estimator:hover label.sk-toggleable__label-arrow:before {color: black;}#sk-container-id-2 div.sk-toggleable__content {max-height: 0;max-width: 0;overflow: hidden;text-align: left;background-color: #f0f8ff;}#sk-container-id-2 div.sk-toggleable__content pre {margin: 0.2em;color: black;border-radius: 0.25em;background-color: #f0f8ff;}#sk-container-id-2 input.sk-toggleable__control:checked~div.sk-toggleable__content {max-height: 200px;max-width: 100%;overflow: auto;}#sk-container-id-2 input.sk-toggleable__control:checked~label.sk-toggleable__label-arrow:before {content: \"▾\";}#sk-container-id-2 div.sk-estimator input.sk-toggleable__control:checked~label.sk-toggleable__label {background-color: #d4ebff;}#sk-container-id-2 div.sk-label input.sk-toggleable__control:checked~label.sk-toggleable__label {background-color: #d4ebff;}#sk-container-id-2 input.sk-hidden--visually {border: 0;clip: rect(1px 1px 1px 1px);clip: rect(1px, 1px, 1px, 1px);height: 1px;margin: -1px;overflow: hidden;padding: 0;position: absolute;width: 1px;}#sk-container-id-2 div.sk-estimator {font-family: monospace;background-color: #f0f8ff;border: 1px dotted black;border-radius: 0.25em;box-sizing: border-box;margin-bottom: 0.5em;}#sk-container-id-2 div.sk-estimator:hover {background-color: #d4ebff;}#sk-container-id-2 div.sk-parallel-item::after {content: \"\";width: 100%;border-bottom: 1px solid gray;flex-grow: 1;}#sk-container-id-2 div.sk-label:hover label.sk-toggleable__label {background-color: #d4ebff;}#sk-container-id-2 div.sk-serial::before {content: \"\";position: absolute;border-left: 1px solid gray;box-sizing: border-box;top: 0;bottom: 0;left: 50%;z-index: 0;}#sk-container-id-2 div.sk-serial {display: flex;flex-direction: column;align-items: center;background-color: white;padding-right: 0.2em;padding-left: 0.2em;position: relative;}#sk-container-id-2 div.sk-item {position: relative;z-index: 1;}#sk-container-id-2 div.sk-parallel {display: flex;align-items: stretch;justify-content: center;background-color: white;position: relative;}#sk-container-id-2 div.sk-item::before, #sk-container-id-2 div.sk-parallel-item::before {content: \"\";position: absolute;border-left: 1px solid gray;box-sizing: border-box;top: 0;bottom: 0;left: 50%;z-index: -1;}#sk-container-id-2 div.sk-parallel-item {display: flex;flex-direction: column;z-index: 1;position: relative;background-color: white;}#sk-container-id-2 div.sk-parallel-item:first-child::after {align-self: flex-end;width: 50%;}#sk-container-id-2 div.sk-parallel-item:last-child::after {align-self: flex-start;width: 50%;}#sk-container-id-2 div.sk-parallel-item:only-child::after {width: 0;}#sk-container-id-2 div.sk-dashed-wrapped {border: 1px dashed gray;margin: 0 0.4em 0.5em 0.4em;box-sizing: border-box;padding-bottom: 0.4em;background-color: white;}#sk-container-id-2 div.sk-label label {font-family: monospace;font-weight: bold;display: inline-block;line-height: 1.2em;}#sk-container-id-2 div.sk-label-container {text-align: center;}#sk-container-id-2 div.sk-container {/* jupyter's `normalize.less` sets `[hidden] { display: none; }` but bootstrap.min.css set `[hidden] { display: none !important; }` so we also need the `!important` here to be able to override the default hidden behavior on the sphinx rendered scikit-learn.org. See: https://github.com/scikit-learn/scikit-learn/issues/21755 */display: inline-block !important;position: relative;}#sk-container-id-2 div.sk-text-repr-fallback {display: none;}</style><div id=\"sk-container-id-2\" class=\"sk-top-container\"><div class=\"sk-text-repr-fallback\"><pre>XGBClassifier(base_score=None, booster=None, callbacks=None,\n",
              "              colsample_bylevel=None, colsample_bynode=None,\n",
              "              colsample_bytree=0.8, device=None, early_stopping_rounds=None,\n",
              "              enable_categorical=False, eval_metric=None, feature_types=None,\n",
              "              gamma=0.5, grow_policy=None, importance_type=None,\n",
              "              interaction_constraints=None, learning_rate=0.1, max_bin=None,\n",
              "              max_cat_threshold=None, max_cat_to_onehot=None,\n",
              "              max_delta_step=None, max_depth=3, max_leaves=None,\n",
              "              min_child_weight=1, missing=nan, monotone_constraints=None,\n",
              "              multi_strategy=None, n_estimators=None, n_jobs=None,\n",
              "              num_parallel_tree=None, random_state=None, ...)</pre><b>In a Jupyter environment, please rerun this cell to show the HTML representation or trust the notebook. <br />On GitHub, the HTML representation is unable to render, please try loading this page with nbviewer.org.</b></div><div class=\"sk-container\" hidden><div class=\"sk-item\"><div class=\"sk-estimator sk-toggleable\"><input class=\"sk-toggleable__control sk-hidden--visually\" id=\"sk-estimator-id-2\" type=\"checkbox\" checked><label for=\"sk-estimator-id-2\" class=\"sk-toggleable__label sk-toggleable__label-arrow\">XGBClassifier</label><div class=\"sk-toggleable__content\"><pre>XGBClassifier(base_score=None, booster=None, callbacks=None,\n",
              "              colsample_bylevel=None, colsample_bynode=None,\n",
              "              colsample_bytree=0.8, device=None, early_stopping_rounds=None,\n",
              "              enable_categorical=False, eval_metric=None, feature_types=None,\n",
              "              gamma=0.5, grow_policy=None, importance_type=None,\n",
              "              interaction_constraints=None, learning_rate=0.1, max_bin=None,\n",
              "              max_cat_threshold=None, max_cat_to_onehot=None,\n",
              "              max_delta_step=None, max_depth=3, max_leaves=None,\n",
              "              min_child_weight=1, missing=nan, monotone_constraints=None,\n",
              "              multi_strategy=None, n_estimators=None, n_jobs=None,\n",
              "              num_parallel_tree=None, random_state=None, ...)</pre></div></div></div></div></div>"
            ],
            "text/plain": [
              "XGBClassifier(base_score=None, booster=None, callbacks=None,\n",
              "              colsample_bylevel=None, colsample_bynode=None,\n",
              "              colsample_bytree=0.8, device=None, early_stopping_rounds=None,\n",
              "              enable_categorical=False, eval_metric=None, feature_types=None,\n",
              "              gamma=0.5, grow_policy=None, importance_type=None,\n",
              "              interaction_constraints=None, learning_rate=0.1, max_bin=None,\n",
              "              max_cat_threshold=None, max_cat_to_onehot=None,\n",
              "              max_delta_step=None, max_depth=3, max_leaves=None,\n",
              "              min_child_weight=1, missing=nan, monotone_constraints=None,\n",
              "              multi_strategy=None, n_estimators=None, n_jobs=None,\n",
              "              num_parallel_tree=None, random_state=None, ...)"
            ]
          },
          "execution_count": 51,
          "metadata": {},
          "output_type": "execute_result"
        }
      ],
      "source": [
        "XGBoost_class_best.fit(x_train,y_train)"
      ]
    },
    {
      "cell_type": "code",
      "execution_count": 52,
      "metadata": {},
      "outputs": [],
      "source": [
        "y_predict_best=XGBoost_class_best.predict(x_test)"
      ]
    },
    {
      "cell_type": "markdown",
      "metadata": {},
      "source": [
        "### Evaluate Model"
      ]
    },
    {
      "cell_type": "code",
      "execution_count": 53,
      "metadata": {},
      "outputs": [
        {
          "name": "stdout",
          "output_type": "stream",
          "text": [
            "\n",
            "Classification Report\n",
            "\n",
            "              precision    recall  f1-score   support\n",
            "\n",
            "           0       0.88      0.95      0.91      6412\n",
            "           1       0.74      0.52      0.61      1737\n",
            "\n",
            "    accuracy                           0.86      8149\n",
            "   macro avg       0.81      0.73      0.76      8149\n",
            "weighted avg       0.85      0.86      0.85      8149\n",
            "\n"
          ]
        }
      ],
      "source": [
        "print('\\nClassification Report\\n')\n",
        "print(classification_report(y_test, y_predict_best, target_names=['0','1']))"
      ]
    }
  ],
  "metadata": {
    "colab": {
      "provenance": []
    },
    "kernelspec": {
      "display_name": "Python 3",
      "name": "python3"
    },
    "language_info": {
      "codemirror_mode": {
        "name": "ipython",
        "version": 3
      },
      "file_extension": ".py",
      "mimetype": "text/x-python",
      "name": "python",
      "nbconvert_exporter": "python",
      "pygments_lexer": "ipython3",
      "version": "3.9.13"
    }
  },
  "nbformat": 4,
  "nbformat_minor": 0
}
